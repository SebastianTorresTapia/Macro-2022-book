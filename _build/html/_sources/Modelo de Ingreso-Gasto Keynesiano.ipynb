{
 "cells": [
  {
   "cell_type": "markdown",
   "id": "795d80df-e777-4fc7-a01a-12aee39c510c",
   "metadata": {},
   "source": [
    "# Modelo de Ingreso-Gasto Keynesiano"
   ]
  },
  {
   "cell_type": "markdown",
   "id": "2f8f8630",
   "metadata": {},
   "source": [
    "Sebastian Torres - 20201586"
   ]
  },
  {
   "cell_type": "code",
   "execution_count": 1,
   "id": "b88f6f18",
   "metadata": {},
   "outputs": [],
   "source": [
    "%matplotlib inline"
   ]
  },
  {
   "cell_type": "code",
   "execution_count": 2,
   "id": "196fe9a7",
   "metadata": {},
   "outputs": [],
   "source": [
    "import matplotlib.pyplot as plt\n",
    "import numpy as np\n",
    "import sympy as sy\n",
    "from sympy import *\n",
    "import pandas as pd\n",
    "#from causalgraphicalmodels import CausalGraphicalModel"
   ]
  },
  {
   "cell_type": "markdown",
   "id": "a4bb4e90",
   "metadata": {},
   "source": [
    "- Parte informe \n",
    "\n",
    "Lectura: Dancourt, O. (2017). The lean times in the Peruvian economy. Journal of Post Keynesian Economics, 40(1), 112-129."
   ]
  },
  {
   "cell_type": "markdown",
   "id": "71cebf72",
   "metadata": {},
   "source": [
    "¿Cuál fue el impacto del choque externo adverso sufrido durante el periodo de 2014-2015 en la economía peruana? Partiendo de dicha pregunta, Dancourt describe el impacto recesivo e inflacionario de dicho choque y sus consecuencias en nuestra economía.  Posteriormente, busca analizar las políticas monetarias y fiscales con las que las autoridades respondieron desde el Banco Central de Reserva del Perú (BCRP) y el Ministerio de Economía (MEF). Por un lado, explica que el BCRP comprometió la política monetaria futura al reducir a la mitad su reserva de divisas (superó sus ventas de dólares) y mostró un mal manejo de la tasa de interés referencial al optar por una respuesta moderada en lugar de un ciclo agresivo de reducción (lo que habría tenido un mayor efecto positivo). Por otro lado, respecto a la política fiscal, argumenta que el paquete de reducción de impuestos fue inadecuado, debiendo haberse optado por un aumento en la inversión pública. \n",
    "\n",
    "Resulta útil resaltar dos fortalezas de la investigación. En primer lugar, el autor emplea una metodología centrada en patrones históricos: analiza los periodos de la economía a partir de una división entre épocas de vacas gordas (auges) y flacas (recesiones). Por ende, a pesar de la ausencia de algún método matemático, la constante comparación entre dichos períodos permite comprender el contenido y las críticas planteadas. En segundo lugar, es destacable la presencia de recomendaciones macroeconómicas planteadas por el autor. A diferencia de la gran mayoría de autores en ciencias sociales, Dancourt no se queda en el análisis de una relación explicativa y/o una crítica, sino que adicionalmente ofrece una lista de medidas alternativas para solucionar los retos pendientes para el próximo gobierno. \n",
    "\n",
    "Por otro lado, es necesario identificar dos debilidades. En primer lugar, no realiza una explicación respecto a la presencia de factores internacionales y el origen del choque externo o del periodo de “vacas flacas”. Si bien la presencia de estos sucesos en la economía peruana no es un caso aislado -han habido diversos casos durante los últimos 15 años-, sigue siendo necesaria una explicación causal entre el contexto mundial y el inicio de crisis o recesiones. Siguiendo al Fondo Monetario Internacional, es importante considerar la relación del Perú como una economía pequeña, pequeña y altamente sensible a choques externos ocurridos en China y EEUU desde el 2012 (2014b). En segundo lugar, sería recomendable contrastar los hallazgos agregando teorías críticas o perspectivas contrarias a los supuestos keynesianos empleados. De esta forma, la hipótesis del artículo e incluso las recomendaciones vertidas por el autor se fortalecerán mediante la refutación de posibles contrafácticos.  \n",
    "En línea con lo mencionado, el principal aporte de Dancourt es demostrar una relación entre el crecimiento económico y los precios de los commodities: una reducción de estos precios contribuye a generar recesiones. Asimismo, identifica que la desaceleración económica se debió principalmente al desplome de los precios mundiales de los metales, la caída de la inversión pública y privada y la sequía crediticia en dólares. \n",
    "\n",
    "Finalmente, considero que existen dos principales próximos pasos para avanzar en esta pregunta. En primer lugar, la exploración de vías de enfoques económicos nacionales alternativos. Como propone Lust, el Estado necesita impulsar programas de diversificación de nuestra economía capitalista de subsistencia para así reducir el nivel de vulnerabilidad frente a las recesiones internacionales, especialmente tomando en cuenta la variable internacional de interdependencia asimétrica (2018: 97-98). En segundo lugar, resultaría interesante extender este estudio a un número mayor de casos en el ámbito latinoamericano. Siguiendo a Mukherjee, la posición estructural de la mayoría de estos países como exportadores de materias primas es útil para encontrar similitudes y plantear patrones de respuesta (2016: 23). De esta manera, podemos encontrar soluciones óptimas para la situación de las economías periféricas latinoamericanas y mejorar la capacidad de respuesta frente a futuras crisis. Dichos avances cobran importancia en pleno contexto de recesión económica por factores nacionales (crisis política) e internacional (pandemia). \n",
    "\n",
    "\n",
    "\n",
    "Bibliografía:\n",
    "\n",
    "Lust, J. (2018). Vista del surgimiento de una economía capitalista de subsistencia en el Perú.\n",
    "http://revistas.urp.edu.pe/index.php/pluriversidad/article/view/1673/1529. \n",
    "\n",
    "Mukherjee, D. (2016). Informal economy in emerging economies: not a substitute but a complement!. International Journal of Business and Economic Development (IJBED), 4(3).\n",
    "\n",
    "https://www.bolpress.com/2018/12/10/el-surgimiento-de-una-economia-capitalista-de-subsistencia-en-el-peru/\n"
   ]
  },
  {
   "cell_type": "markdown",
   "id": "b2d0a088",
   "metadata": {},
   "source": [
    "Parte código"
   ]
  },
  {
   "cell_type": "markdown",
   "id": "dcddb891",
   "metadata": {},
   "source": [
    "Pregunta 1: "
   ]
  },
  {
   "cell_type": "markdown",
   "id": "81b8037f",
   "metadata": {},
   "source": [
    "Sabiendo que: "
   ]
  },
  {
   "cell_type": "markdown",
   "id": "2ab49b80",
   "metadata": {},
   "source": [
    "$$ C = C_0 + bY^d $$"
   ]
  },
  {
   "cell_type": "markdown",
   "id": "af38e113",
   "metadata": {},
   "source": [
    ", y que:  "
   ]
  },
  {
   "cell_type": "markdown",
   "id": "de4975f4",
   "metadata": {},
   "source": [
    "$$ T = tY $$ \n",
    "\n",
    "$$ Y^d = Y - T -> Y^d = (1-t)Y $$"
   ]
  },
  {
   "cell_type": "markdown",
   "id": "dd67bf73",
   "metadata": {},
   "source": [
    " - Donde, tributación total (T) = tY, donde \"t\" es la tasa de impuestos e \"Y\" es el ingreso agregado"
   ]
  },
  {
   "cell_type": "markdown",
   "id": "3ed39b95",
   "metadata": {},
   "source": [
    "Entonces, parte de este ingreso disponible Y^d se utiliza para los gastos en consumo. De aquí, se obtiene el consumo variable como parte de la función de demanda de Consumo. Así: "
   ]
  },
  {
   "cell_type": "markdown",
   "id": "70084194",
   "metadata": {},
   "source": [
    "$$ C = C_0 + bY^d $$"
   ]
  },
  {
   "cell_type": "markdown",
   "id": "c903296b",
   "metadata": {},
   "source": [
    "Considerando el diferencial de la función de demanda de Consumo del ejercicio 1:"
   ]
  },
  {
   "cell_type": "markdown",
   "id": "e19d7195",
   "metadata": {},
   "source": [
    "$$ \\frac{∆C}{∆Y^d} = \\frac{(C_1-C_0)}{(Y^d_1 - Y^d_0)}  $$\n"
   ]
  },
  {
   "cell_type": "markdown",
   "id": "eabd1b42",
   "metadata": {},
   "source": [
    "$$ \\frac{(40-30)}{(40-20)} = \\frac{10}{20} = 0.5 $$"
   ]
  },
  {
   "cell_type": "markdown",
   "id": "03259b85",
   "metadata": {},
   "source": [
    "Explicando la función de demanda de Consumo:\n",
    "$$ C = C_0 + bY^d $$\n",
    "\n",
    "Donde: \n",
    "    \n",
    "    C_0  = Consumo autónomo (consumo fijo).\n",
    "    \n",
    "    bY^d = Consumo variable, donde: \n",
    "        \n",
    "        Y^d = Ingreso disponible. Representa el ingreso restante luego del que el Estado cobre la tasa impositiva.\n",
    "    \n",
    "        b = Propensión marginal a consumir. Es el cambio en el consumo por unidad de cambio en el ingreso disponible, ∈\n",
    "        (]0,1[)."
   ]
  },
  {
   "cell_type": "markdown",
   "id": "f0d95225",
   "metadata": {},
   "source": [
    "Entonces:\n",
    "\n",
    "La función de consumo representa que, en general, todas las familias del país se ven ante una situación de doble forma de consumo. Hay consumo autónimo (fijo) y consumo variable (variación del consumo según el ingreso disponible).  "
   ]
  },
  {
   "cell_type": "markdown",
   "id": "c97fb8b0",
   "metadata": {},
   "source": [
    "Graficando: "
   ]
  },
  {
   "cell_type": "code",
   "execution_count": 3,
   "id": "00ac021e",
   "metadata": {},
   "outputs": [
    {
     "data": {
      "image/png": "[encoded data removed]",
      "text/plain": [
       "<Figure size 720x576 with 1 Axes>"
      ]
     },
     "metadata": {},
     "output_type": "display_data"
    }
   ],
   "source": [
    "# Parámetros\n",
    "\n",
    "Y_size = 100 \n",
    "\n",
    "Co = 35\n",
    "b = 0.8\n",
    "t = 0.3\n",
    "\n",
    "Y = np.arange(Y_size)\n",
    "\n",
    "# Ecuación de la curva del ingreso de equilibrio\n",
    "\n",
    "def C(Co, b, t, Y):\n",
    "    C = Co + b*(1-t)*Y\n",
    "    return C\n",
    "\n",
    "C = C(Co, b, t, Y)\n",
    "# Gráfico\n",
    "\n",
    "# Dimensiones del gráfico\n",
    "y_max = np.max(Y)\n",
    "fig, ax = plt.subplots(figsize=(10, 8))\n",
    "\n",
    "custom_xlim = (0, 130)\n",
    "custom_ylim = (20, 130)\n",
    "\n",
    "plt.setp(ax, xlim=custom_xlim, ylim=custom_ylim)\n",
    "\n",
    "\n",
    "# Curvas a graficar\n",
    "ax.plot(Y, C, label = \"Consumo\", color = \"#3D59AB\") #Demanda agregada\n",
    "\n",
    "# Eliminar las cantidades de los ejes\n",
    "ax.yaxis.set_major_locator(plt.NullLocator())   \n",
    "ax.xaxis.set_major_locator(plt.NullLocator())\n",
    "\n",
    "# Texto agregado\n",
    "    # punto de equilibrio\n",
    "plt.text(80, 95, '$PMgC = △C/△Y^d = b = 0.5$', fontsize = 13, color = 'black')\n",
    "\n",
    "\n",
    "# Título y leyenda\n",
    "ax.set(title=\"Función de demanda de Consumo\", xlabel= '$Y^d$', ylabel= 'C')\n",
    "ax.legend() #mostrar leyenda\n",
    "\n",
    "plt.show()"
   ]
  },
  {
   "cell_type": "markdown",
   "id": "9486e6ff",
   "metadata": {},
   "source": [
    "Pregunta 2: "
   ]
  },
  {
   "cell_type": "markdown",
   "id": "1b0e87d9",
   "metadata": {},
   "source": [
    "Considerando el diferencial de la función de demanda de Inversión:"
   ]
  },
  {
   "cell_type": "markdown",
   "id": "51a76ea7",
   "metadata": {},
   "source": [
    "$$ ∆I = ∆I_0 - ∆hr $$"
   ]
  },
  {
   "cell_type": "markdown",
   "id": "ec4ccf37",
   "metadata": {},
   "source": [
    "Sabiendo que: \n",
    "\n",
    "    - Los componentes autónomos no cambian = ∆I_0 = 0"
   ]
  },
  {
   "cell_type": "markdown",
   "id": "f008913d",
   "metadata": {},
   "source": [
    "$$ ∆I = - ∆hr $$"
   ]
  },
  {
   "cell_type": "markdown",
   "id": "51e4d405",
   "metadata": {},
   "source": [
    "$$ ∆I = (-) $$"
   ]
  },
  {
   "cell_type": "markdown",
   "id": "8f8430bd",
   "metadata": {},
   "source": [
    "$$ ∆I < 0 $$"
   ]
  },
  {
   "cell_type": "markdown",
   "id": "30ddcf11",
   "metadata": {},
   "source": [
    "Explicando la función de demanda de Inversión:\n",
    "$$ I = I_0 - hr $$\n"
   ]
  },
  {
   "cell_type": "markdown",
   "id": "5f6d9428",
   "metadata": {},
   "source": [
    "Donde: \n",
    "    \n",
    "    I = Inversión autónoma (inversión fija).\n",
    "    r = Tasa de interés real. Es la tasa nominal neta de la inflación esperada.  \n",
    "    h = Sensibilidad de los inversionistas ante la variación de la taza de interés (relación negativa), ∈ (]0,1[) y dato\n",
    "        fijo.  "
   ]
  },
  {
   "cell_type": "markdown",
   "id": "da86f515",
   "metadata": {},
   "source": [
    "Entonces:\n",
    "\n",
    "Si la inversión autonóma se incrementa, en principio, se incrementaría también la inversión en el país. Sin embargo, si la taza de interés sube, la inversión decaerá.    "
   ]
  },
  {
   "cell_type": "markdown",
   "id": "5b00ac7d",
   "metadata": {},
   "source": [
    "Graficando: "
   ]
  },
  {
   "cell_type": "code",
   "execution_count": 4,
   "id": "9bc52318",
   "metadata": {},
   "outputs": [
    {
     "data": {
      "text/plain": [
       "array([ 0,  1,  2,  3,  4,  5,  6,  7,  8,  9, 10, 11, 12, 13, 14, 15, 16,\n",
       "       17, 18, 19, 20, 21, 22, 23, 24, 25, 26, 27, 28, 29, 30, 31, 32, 33,\n",
       "       34, 35, 36, 37, 38, 39, 40, 41, 42, 43, 44, 45, 46, 47, 48, 49, 50,\n",
       "       51, 52, 53, 54, 55, 56, 57, 58, 59, 60, 61, 62, 63, 64, 65, 66, 67,\n",
       "       68, 69, 70, 71, 72, 73, 74, 75, 76, 77, 78, 79, 80, 81, 82, 83, 84,\n",
       "       85, 86, 87, 88, 89, 90, 91, 92, 93, 94, 95, 96, 97, 98, 99])"
      ]
     },
     "execution_count": 4,
     "metadata": {},
     "output_type": "execute_result"
    }
   ],
   "source": [
    "z_size = 100          \n",
    "z = np.arange(z_size) \n",
    "z                     \n"
   ]
  },
  {
   "cell_type": "code",
   "execution_count": 5,
   "id": "95ae8bac",
   "metadata": {},
   "outputs": [],
   "source": [
    "def funcion_2(x, z):\n",
    "    funcion_2 = (x - z)\n",
    "    return funcion_2       "
   ]
  },
  {
   "cell_type": "code",
   "execution_count": 6,
   "id": "f7998347",
   "metadata": {},
   "outputs": [
    {
     "data": {
      "text/plain": [
       "array([100,  99,  98,  97,  96,  95,  94,  93,  92,  91,  90,  89,  88,\n",
       "        87,  86,  85,  84,  83,  82,  81,  80,  79,  78,  77,  76,  75,\n",
       "        74,  73,  72,  71,  70,  69,  68,  67,  66,  65,  64,  63,  62,\n",
       "        61,  60,  59,  58,  57,  56,  55,  54,  53,  52,  51,  50,  49,\n",
       "        48,  47,  46,  45,  44,  43,  42,  41,  40,  39,  38,  37,  36,\n",
       "        35,  34,  33,  32,  31,  30,  29,  28,  27,  26,  25,  24,  23,\n",
       "        22,  21,  20,  19,  18,  17,  16,  15,  14,  13,  12,  11,  10,\n",
       "         9,   8,   7,   6,   5,   4,   3,   2,   1])"
      ]
     },
     "execution_count": 6,
     "metadata": {},
     "output_type": "execute_result"
    }
   ],
   "source": [
    "funcion_2(100, z)"
   ]
  },
  {
   "cell_type": "code",
   "execution_count": 7,
   "id": "2c7aa311",
   "metadata": {},
   "outputs": [],
   "source": [
    "f2 = funcion_2(100, z)"
   ]
  },
  {
   "cell_type": "code",
   "execution_count": 8,
   "id": "2799b236",
   "metadata": {},
   "outputs": [],
   "source": [
    "Z = np.arange(z_size)"
   ]
  },
  {
   "cell_type": "code",
   "execution_count": 9,
   "id": "26b33f03",
   "metadata": {},
   "outputs": [],
   "source": [
    "a = -2.5 \n",
    "\n",
    "def L_45(a, Z):\n",
    "    L_45 = a*Z\n",
    "    return L_45\n",
    "\n",
    "L_45 = L_45(a, Z)"
   ]
  },
  {
   "cell_type": "code",
   "execution_count": 10,
   "id": "ba8bed38",
   "metadata": {},
   "outputs": [
    {
     "data": {
      "text/plain": [
       "[Text(0.5, 1.0, 'Función de demanda de Inversión'),\n",
       " Text(0.5, 0, 'r'),\n",
       " Text(0, 0.5, 'I')]"
      ]
     },
     "execution_count": 10,
     "metadata": {},
     "output_type": "execute_result"
    },
    {
     "data": {
      "image/png": "[encoded data removed]",
      "text/plain": [
       "<Figure size 576x432 with 1 Axes>"
      ]
     },
     "metadata": {},
     "output_type": "display_data"
    }
   ],
   "source": [
    "y_max = np.max(L_45)\n",
    "fig, ax = plt.subplots(figsize=(8, 6))\n",
    "   \n",
    "ax.plot(Z, L_45, color = \"#404040\") \n",
    "\n",
    "ax.yaxis.set_major_locator(plt.NullLocator())   \n",
    "ax.xaxis.set_major_locator(plt.NullLocator())\n",
    "\n",
    "plt.text(80, -180, '$I = I_0 - hr$', fontsize = 11.5, color = 'black')\n",
    "\n",
    "ax.set(title=\"Función de demanda de Inversión\", xlabel= r'r', ylabel= r'I')"
   ]
  },
  {
   "cell_type": "markdown",
   "id": "a1d490ba",
   "metadata": {},
   "source": [
    "Pregunta 3:"
   ]
  },
  {
   "cell_type": "markdown",
   "id": "259fe2a3",
   "metadata": {},
   "source": [
    "- El modelo supone que el nivel de precios está fijo.\n",
    "- El nivel del producto se adapta a los cambios en la demanda agregada. \n",
    "- La tasa de interés está determinada fuera del modelo (en el mercado monetario). \n",
    "- Es un modelo de corto plazo. "
   ]
  },
  {
   "cell_type": "markdown",
   "id": "a35611ae",
   "metadata": {},
   "source": [
    "Pregunta 4: "
   ]
  },
  {
   "cell_type": "markdown",
   "id": "5c1b0635",
   "metadata": {},
   "source": [
    "Sabiendo que: "
   ]
  },
  {
   "cell_type": "markdown",
   "id": "4552a936",
   "metadata": {},
   "source": [
    "$$ C = C_0 + bY^d $$\n",
    "$$ I = I_0 - hr $$\n",
    "$$ G = G_0 $$\n",
    "$$ T = tY $$\n",
    "$$ X = X_0 $$\n",
    "$$ M = mY^d $$"
   ]
  },
  {
   "cell_type": "markdown",
   "id": "d79ba201",
   "metadata": {},
   "source": [
    "$$ DA = C + I + G + X -M $$"
   ]
  },
  {
   "cell_type": "markdown",
   "id": "e8007608",
   "metadata": {},
   "source": [
    "Podemos reemplazando la función con los datos previos:"
   ]
  },
  {
   "cell_type": "markdown",
   "id": "0b55c4b4",
   "metadata": {},
   "source": [
    "$$ DA = C_0 + bY^d + I_0 -hr + G_0 + X_0 - mY^d $$\n",
    "$$ DA = C_0 + I_0 + G_0 + X_0 - hr + Y(b - m)(1 - t) $$\n"
   ]
  },
  {
   "cell_type": "markdown",
   "id": "f48b73bf",
   "metadata": {},
   "source": [
    "Entonces, $ DA = α_0 + α_1Y $\n",
    "* Intercepto: $ α_0 = C_0 + I_0 + G_0 + X_0 - hr $ \n",
    "* Pendiente: $ α_1 = (b - m)(1 - t) $\n"
   ]
  },
  {
   "cell_type": "markdown",
   "id": "56fe8b88",
   "metadata": {},
   "source": [
    "Reemplazamos en la ecuación del Ingreso de equilibrio: \n",
    "- En donde  $Y = DA$\n"
   ]
  },
  {
   "cell_type": "markdown",
   "id": "e92c6d1c",
   "metadata": {},
   "source": [
    "$$ Y = C_0 + bY^d + I_0 -hr + G_0 + X_0 - mY^d $$\n",
    "$$ Y = \\frac{1}{1 - (b - m)(1 - t)} (C_0 + I_0 + G_0 + X_0 - hr) $$\n",
    "\n",
    "$$ k=\\frac{1}{1 - (b - m)(1 - t)} $$\n"
   ]
  },
  {
   "cell_type": "markdown",
   "id": "3e765435",
   "metadata": {},
   "source": [
    "Entonces:"
   ]
  },
  {
   "cell_type": "code",
   "execution_count": 11,
   "id": "8e623f14",
   "metadata": {},
   "outputs": [],
   "source": [
    "# Parámetros\n",
    "\n",
    "Y_size = 100 \n",
    "\n",
    "Co = 36\n",
    "Io = 41\n",
    "Go = 71\n",
    "Xo = 3\n",
    "h = 0.6\n",
    "b = 0.7 # b > m\n",
    "m = 0.1\n",
    "t = 0.2\n",
    "r = 0.8\n",
    "\n",
    "Y = np.arange(Y_size)"
   ]
  },
  {
   "cell_type": "code",
   "execution_count": 12,
   "id": "16b34cfe",
   "metadata": {},
   "outputs": [],
   "source": [
    "def DA_K(Co, Io, Go, Xo, h, r, b, m, t, Y):\n",
    "    DA_K = (Co + Io + Go + Xo - h*r) + ((b - m)*(1 - t)*Y)\n",
    "    return DA_K\n",
    "\n",
    "DA_IS_K = DA_K(Co, Io, Go, Xo, h, r, b, m, t, Y)\n",
    "\n"
   ]
  },
  {
   "cell_type": "code",
   "execution_count": 13,
   "id": "021834c9",
   "metadata": {},
   "outputs": [],
   "source": [
    "a = 2.5\n",
    "\n",
    "def L_45(a, Y):\n",
    "    L_45 = a*Y\n",
    "    return L_45\n",
    "\n",
    "L_45 = L_45(a, Y)\n"
   ]
  },
  {
   "cell_type": "markdown",
   "id": "d41043a9",
   "metadata": {},
   "source": [
    "Graficamos:"
   ]
  },
  {
   "cell_type": "code",
   "execution_count": 14,
   "id": "bb281a2e",
   "metadata": {},
   "outputs": [
    {
     "data": {
      "image/png": "[encoded data removed]",
      "text/plain": [
       "<Figure size 1080x936 with 1 Axes>"
      ]
     },
     "metadata": {},
     "output_type": "display_data"
    }
   ],
   "source": [
    "# Dimensiones del gráfico\n",
    "y_max = np.max(DA_IS_K)\n",
    "fig, ax = plt.subplots(figsize=(15, 13))\n",
    "\n",
    "# Curvas a graficar\n",
    "ax.plot(Y, DA_IS_K, label = \"DA\", color = \"#3D59AB\") #Demanda agregada\n",
    "ax.plot(Y, L_45, color = \"#404040\") #Línea de 45º\n",
    "\n",
    "# Eliminar las cantidades de los ejes\n",
    "ax.yaxis.set_major_locator(plt.NullLocator())   \n",
    "ax.xaxis.set_major_locator(plt.NullLocator())\n",
    "\n",
    "# Líneas punteadas punto de equilibrio\n",
    "plt.axvline(x=74.5,  ymin= 0, ymax= 0.73, linestyle = \":\", color = \"green\")\n",
    "plt.axhline(y=186, xmin= 0, xmax= 0.8, linestyle = \":\", color = \"green\")\n",
    "plt.axhline(y=150, xmin= 0, xmax= 0.8, linestyle = \":\", color = \"green\")\n",
    "\n",
    "# Texto agregado\n",
    "    # punto de equilibrio\n",
    "plt.text(0, 188, '$DA^e$', fontsize = 11.5, color = 'black')\n",
    "plt.text(72, 0, '$Y^e$', fontsize = 12, color = 'black')\n",
    "plt.text(0, 152, '$α_o$', fontsize = 15, color = 'black')\n",
    "plt.text(78, 180, '$α_1 = (b-m)(1-t)Y$', fontsize = 15, color = 'black')\n",
    "plt.text(78, 155, '$α_0 = (C_0 + I_0 + G_0 + X_0 - hr)$', fontsize = 15, color = 'black')\n",
    "plt.text(90, 215, '$DA = α_0 + α_1Y$', fontsize = 15, color = 'black')\n",
    "plt.text(92, 205, '$↓$', fontsize = 18, color = 'grey')\n",
    "    # línea 45º\n",
    "plt.text(6, 4, '$45°$', fontsize = 11.5, color = 'red')\n",
    "plt.text(2.5, -3, '$◝$', fontsize = 30, color = '#404040')\n",
    "\n",
    "# Título y leyenda\n",
    "ax.set(title=\"El ingreso de Equilibrio a CP\", xlabel= r'Y', ylabel= r'DA')\n",
    "plt.show()\n"
   ]
  },
  {
   "cell_type": "markdown",
   "id": "4a7b18d1",
   "metadata": {},
   "source": [
    "Pregunta 5:"
   ]
  },
  {
   "cell_type": "markdown",
   "id": "aab063ab",
   "metadata": {},
   "source": [
    "    a) Política fiscal Expansiva con aumento del Gasto del Gobierno (∆G>0)\n",
    "    \n",
    "        - Análisis intuitivo: "
   ]
  },
  {
   "cell_type": "markdown",
   "id": "f89e5b7f",
   "metadata": {},
   "source": [
    "$$ ↑Go → ↑DA → DA > Y → ↑Y $$"
   ]
  },
  {
   "cell_type": "markdown",
   "id": "0d928ddb",
   "metadata": {},
   "source": [
    "Interpretación: Con una política Fiscal Expansiva, el gobierno aumenta el gasto público para expandir la producción\n",
    "y el empleo. Sabemos que las variables exógenas (tasa de interés real, el consumo, la inversión y las exportaciones \n",
    "autónomas) no cambian y se presuponen constantes la presión tributaria y las propensiones marginales a consumir\n",
    "e importar. Por ende, el aumento en el Gasto de Gobierno hará que se eleve la Demanda Agregada (DA), de manera que\n",
    "la nueva DA será mayor que la demanda agregada inicial, razón por la cual será necesario aumentar el nivel de\n",
    "producción para volver al punto de equilibrio. "
   ]
  },
  {
   "cell_type": "markdown",
   "id": "50a6d0c2",
   "metadata": {},
   "source": [
    "    b) Análisis matemático: ∆Go > 0 → ¿∆Y?"
   ]
  },
  {
   "cell_type": "markdown",
   "id": "d247a4a9",
   "metadata": {},
   "source": [
    "\n",
    "$$ Y = \\frac{1}{1 - (b - m)(1 - t)} (C_0 + I_0 + G_0 + X_0 - hr) $$\n",
    "\n",
    "o, considerando el multiplicador keynesiano, $ k > 0 $:\n",
    "\n",
    "$$ Y = k (C_0 + I_0 + G_0 + X_0 - hr) $$\n",
    "\n",
    "\n",
    "$$ ∆Y = k (∆C_0 + ∆I_0 + ∆G_0 + ∆X_0 - ∆hr) $$"
   ]
  },
  {
   "cell_type": "markdown",
   "id": "ae067bd5",
   "metadata": {},
   "source": [
    "Pero, si no ha habido cambios en $C_0$, $I_0$, $X_0$, $h$ ni $r$, entonces: \n",
    "\n",
    "$$∆C_0 = ∆I_0 = ∆X_0 = ∆h = ∆r = 0$$\n",
    "\n",
    "$$ ∆Y = k (∆G_0) $$"
   ]
  },
  {
   "cell_type": "markdown",
   "id": "aebb9e40",
   "metadata": {},
   "source": [
    "Sabiendo que $∆G_0 > 0 $ y que $k > 0$, la multiplicación de un número positivo con un positivo dará otro positivo:\n",
    "\n",
    "$$ ∆Y = (+)(+) $$\n",
    "$$ ∆Y > 0 $$"
   ]
  },
  {
   "cell_type": "markdown",
   "id": "a8ed8979",
   "metadata": {},
   "source": [
    "    c) Análisis gráfico: "
   ]
  },
  {
   "cell_type": "code",
   "execution_count": 15,
   "id": "6047b507",
   "metadata": {},
   "outputs": [],
   "source": [
    "# Curva de ingreso de equilibrio ORIGINAL\n",
    "\n",
    "    # Parámetros\n",
    "Y_size = 100 \n",
    "\n",
    "Co = 35\n",
    "Io = 40\n",
    "Go = 70\n",
    "Xo = 2\n",
    "h = 0.7\n",
    "b = 0.8\n",
    "m = 0.2\n",
    "t = 0.3\n",
    "r = 0.9\n",
    "\n",
    "Y = np.arange(Y_size)\n",
    "\n",
    "    # Ecuación \n",
    "def DA_K(Co, Io, Go, Xo, h, r, b, m, t, Y):\n",
    "    DA_K = (Co + Io + Go + Xo - h*r) + ((b - m)*(1 - t)*Y)\n",
    "    return DA_K\n",
    "\n",
    "DA_IS_K = DA_K(Co, Io, Go, Xo, h, r, b, m, t, Y)\n",
    "\n",
    "\n",
    "#--------------------------------------------------\n",
    "# NUEVA curva de ingreso de equilibrio\n",
    "\n",
    "    # Definir SOLO el parámetro cambiado\n",
    "Go = 95\n",
    "\n",
    "# Generar la ecuación con el nuevo parámetro\n",
    "def DA_K(Co, Io, Go, Xo, h, r, b, m, t, Y):\n",
    "    DA_K = (Co + Io + Go + Xo - h*r) + ((b - m)*(1 - t)*Y)\n",
    "    return DA_K\n",
    "\n",
    "DA_G = DA_K(Co, Io, Go, Xo, h, r, b, m, t, Y)"
   ]
  },
  {
   "cell_type": "code",
   "execution_count": 16,
   "id": "bfb27202",
   "metadata": {},
   "outputs": [
    {
     "data": {
      "image/png": "[encoded data removed]",
      "text/plain": [
       "<Figure size 720x576 with 1 Axes>"
      ]
     },
     "metadata": {
      "needs_background": "light"
     },
     "output_type": "display_data"
    }
   ],
   "source": [
    "# Gráfico\n",
    "y_max = np.max(DA_IS_K)\n",
    "fig, ax = plt.subplots(figsize=(10, 8))\n",
    "\n",
    "\n",
    "# Curvas a graficar\n",
    "ax.plot(Y, DA_IS_K, label = \"DA\", color = \"#3D59AB\") #curva ORIGINAL\n",
    "ax.plot(Y, DA_G, label = \"DA_G\", color = \"#EE7600\", linestyle = 'dashed') #NUEVA curva\n",
    "ax.plot(Y, L_45, color = \"#404040\") #línea de 45º\n",
    "\n",
    "# Lineas punteadas\n",
    "plt.axvline(x = 70.5, ymin= 0, ymax = 0.69, linestyle = \":\", color = \"grey\")\n",
    "plt.axhline(y = 176, xmin= 0, xmax = 0.7, linestyle = \":\", color = \"grey\")\n",
    "plt.axvline(x = 82,  ymin= 0, ymax = 0.80, linestyle = \":\", color = \"grey\")\n",
    "plt.axhline(y = 206, xmin= 0, xmax = 0.80, linestyle = \":\", color = \"grey\")\n",
    "\n",
    "# Texto agregado\n",
    "plt.text(0, 125, '$DA^e$', fontsize = 11.5, color = 'black')\n",
    "plt.text(0, 180, '$DA_G$', fontsize = 11.5, color = '#EE7600')\n",
    "plt.text(6, 4, '$45°$', fontsize = 11.5, color = 'black')\n",
    "plt.text(2.5, -3, '$◝$', fontsize = 30, color = '#404040')\n",
    "plt.text(72, 0, '$Y^e$', fontsize = 12, color = 'black')\n",
    "plt.text(85, 0, '$Y_G$', fontsize = 12, color = '#EE7600')\n",
    "plt.text(75, 45, '$→$', fontsize = 18, color = 'grey')\n",
    "plt.text(15, 160, '$↑$', fontsize = 18, color = 'grey')\n",
    "\n",
    "# Título y leyenda\n",
    "ax.set(title = \"Aumento del Gasto del Gobierno $(G_0)$\", xlabel = r'Y', ylabel = r'DA')\n",
    "ax.legend()\n",
    "\n",
    "plt.show()"
   ]
  },
  {
   "cell_type": "markdown",
   "id": "a5676f9b",
   "metadata": {},
   "source": [
    "b) Política fiscal Expansiva con reducción de la tasa de tributación (∆t<0)\n",
    "\n",
    "        - Análisis intuitivo: "
   ]
  },
  {
   "cell_type": "markdown",
   "id": "169877b6",
   "metadata": {},
   "source": [
    "$$ t↓ → Co↑ → DA↑ → DA > Y → Y↑ ... (1) $$\n",
    "$$ t↓ → M↑ → DA↓ → DA < Y → Y↓ ... (2) $$"
   ]
  },
  {
   "cell_type": "markdown",
   "id": "6634c224",
   "metadata": {},
   "source": [
    "Interpretación: Por un lado, en (1), si la tasa de tributación disminuye, y por ende los impuestos que las personas tienen que pagar disminuye, el nivel de consumo probablemente aumente (relación inversa) en tanto las personas podrán tener un ingreso disponible mayor y, por lo tanto, la demanda de consumo y consecuentemente la demanda agregada suban. Entonces, la nueva demanda agregada será mayor que el nivel de producción inicial (las personas van a demandar más de lo que se está ofertando) y, por ende, para regresar al equilibrio se tendrá que aumentar el nibel de producción. \n",
    "    Por otro lado, en (2), si la tasa de tributación disminuye, también ocurre que las exportaciones netas de importaciones disminuirían (relación directa), razón por la cual la demanda agregada caerá. En este escenario, la nueva demanda agregada será menor que el nivel de producción (la economía produce más de lo que la gente demanda). Entonces, será necesario reducir el nivel de producción para regresar al nivel de equilibrio.\n"
   ]
  },
  {
   "cell_type": "markdown",
   "id": "aa0eeec2",
   "metadata": {},
   "source": [
    "$ OJO $ :"
   ]
  },
  {
   "cell_type": "markdown",
   "id": "f5d41844",
   "metadata": {},
   "source": [
    "Entonces, tomando en cuenta (1) y (2), parece haber una contradiccion. Por el lado del consumo, la reducción de la tasa impositiva provoca que el nivel de producción aumente. Pero al mismo tiempo, por el lado de las importaciones y exportaciones, la reducción de la tasa impositiva provoca que el nivel de producción caiga. La única forma de solucionar este dilema es con el análisis matemático a continuación. "
   ]
  },
  {
   "cell_type": "markdown",
   "id": "6bb29aa3",
   "metadata": {},
   "source": [
    "    - Matemáticamente: ∆t < 0  →  ¿∆Y?"
   ]
  },
  {
   "cell_type": "code",
   "execution_count": 17,
   "id": "6048ee22",
   "metadata": {},
   "outputs": [
    {
     "data": {
      "text/latex": [
       "$\\displaystyle \\frac{\\left(- b + m\\right) \\left(Co + Go + Io + Xo - h r\\right)}{\\left(- \\left(1 - t\\right) \\left(b - m\\right) + 1\\right)^{2}}$"
      ],
      "text/plain": [
       "(-b + m)*(Co + Go + Io + Xo - h*r)/(-(1 - t)*(b - m) + 1)**2"
      ]
     },
     "execution_count": 17,
     "metadata": {},
     "output_type": "execute_result"
    }
   ],
   "source": [
    "Co, Io, Go, Xo, h, r, b, m, t = symbols('Co Io Go Xo h r b m t')\n",
    "\n",
    "f = (Co + Io + Go + Xo - h*r)/(1-(b-m)*(1-t))\n",
    "\n",
    "\n",
    "df_t = diff(f, t)\n",
    "df_t #∆Y/∆t"
   ]
  },
  {
   "cell_type": "markdown",
   "id": "3300281c",
   "metadata": {},
   "source": [
    "Considernado el diferencial de $∆t$:\n",
    "\n",
    "$$ \\frac{∆Y}{∆t} = \\frac{(m-b)(Co + Go + Io + Xo - hr)}{(1-(1-t)(b-m)+1)^2} $$\n",
    "\n",
    "- Sabiendo que b > m, entonces $(m-b) < 0$\n",
    "- Los componentes autónomos no cambian: $∆C_0 = ∆I_0 = ∆X_0 = ∆h = ∆r = 0$\n",
    "- Cualquier número elevado al cuadrado será positivo: $ (1-(1-t)(b-m)+1)^2 > 0 $\n",
    "\n",
    "Entonces:\n",
    "\n",
    "$$ \\frac{∆Y}{∆t} = \\frac{(-)}{(+)} $$\n",
    "\n",
    "Sabemos que $∆t < 0$ y que la multiplicación de dos negativos da un positivo, el cual al ser dividido con otro positivo da positivo:\n",
    "\n",
    "$$ \\frac{∆Y}{(-)} = \\frac{(-)}{(+)} $$\n",
    "\n",
    "$$ ∆Y = \\frac{(-)(-)}{(+)} $$\n",
    "\n",
    "$$ ∆Y > 0 $$"
   ]
  },
  {
   "cell_type": "markdown",
   "id": "b319ef07",
   "metadata": {},
   "source": [
    "Entonces, comprobamos que el impacto principal de una reducción en la tasa impositiva se da en el consumo. Esto dado que en la economía de un país es el consumo agregado de las familias el componente con mayor peso respecto a las importaciones. Por ende, el impacto de la tasa impositiva siempre será considerado por el camino del consumo autónomo de las familias (siempre será mayor). "
   ]
  },
  {
   "cell_type": "markdown",
   "id": "3ff60fcf",
   "metadata": {},
   "source": [
    "    - Análisis gráfico: "
   ]
  },
  {
   "cell_type": "code",
   "execution_count": 18,
   "id": "3c32d6e8",
   "metadata": {},
   "outputs": [],
   "source": [
    "# Curva de ingreso de equilibrio ORIGINAL\n",
    "\n",
    "    # Parámetros\n",
    "Y_size = 100 \n",
    "\n",
    "Co = 35\n",
    "Io = 40\n",
    "Go = 70\n",
    "Xo = 2\n",
    "h = 0.7\n",
    "b = 0.8\n",
    "m = 0.2\n",
    "t = 0.3 #tasa de tributación\n",
    "r = 0.9\n",
    "\n",
    "Y = np.arange(Y_size)\n",
    "\n",
    "    # Ecuación \n",
    "def DA_K(Co, Io, Go, Xo, h, r, b, m, t, Y):\n",
    "    DA_K = (Co + Io + Go + Xo - h*r) + ((b - m)*(1 - t)*Y)\n",
    "    return DA_K\n",
    "\n",
    "DA_IS_K = DA_K(Co, Io, Go, Xo, h, r, b, m, t, Y)\n",
    "\n",
    "\n",
    "#--------------------------------------------------\n",
    "# NUEVA curva de ingreso de equilibrio\n",
    "\n",
    "    # Definir SOLO el parámetro cambiado\n",
    "t = 0.02\n",
    "\n",
    "# Generar la ecuación con el nuevo parámetros\n",
    "def DA_K(Co, Io, Go, Xo, h, r, b, m, t, Y):\n",
    "    DA_K = (Co + Io + Go + Xo - h*r) + ((b - m)*(1 - t)*Y)\n",
    "    return DA_K\n",
    "\n",
    "DA_t = DA_K(Co, Io, Go, Xo, h, r, b, m, t, Y)"
   ]
  },
  {
   "cell_type": "code",
   "execution_count": 19,
   "id": "467461e8",
   "metadata": {},
   "outputs": [
    {
     "data": {
      "image/png": "[encoded data removed]",
      "text/plain": [
       "<Figure size 720x576 with 1 Axes>"
      ]
     },
     "metadata": {
      "needs_background": "light"
     },
     "output_type": "display_data"
    }
   ],
   "source": [
    "# Gráfico\n",
    "y_max = np.max(DA_IS_K)\n",
    "fig, ax = plt.subplots(figsize=(10, 8))\n",
    "\n",
    "\n",
    "# Curvas a graficar\n",
    "ax.plot(Y, DA_IS_K, label = \"DA\", color = \"#3D59AB\") #curva ORIGINAL\n",
    "ax.plot(Y, DA_t, label = \"DA_t\", color = \"#EE7600\", linestyle = 'dashed') #NUEVA curva\n",
    "ax.plot(Y, L_45, color = \"#404040\") #línea de 45º\n",
    "\n",
    "# Lineas punteadas\n",
    "plt.axvline(x = 70.5, ymin= 0, ymax = 0.69, linestyle = \":\", color = \"grey\")\n",
    "plt.axhline(y = 176, xmin= 0, xmax = 0.7, linestyle = \":\", color = \"grey\")\n",
    "plt.axvline(x = 77,  ymin= 0, ymax = 0.75, linestyle = \":\", color = \"grey\")\n",
    "plt.axhline(y = 192, xmin= 0, xmax = 0.75, linestyle = \":\", color = \"grey\")\n",
    "\n",
    "# Texto agregado\n",
    "plt.text(0, 180, '$DA^e$', fontsize = 11.5, color = 'black')\n",
    "plt.text(0, 200, '$DA_t$', fontsize = 11.5, color = '#EE7600')\n",
    "plt.text(6, 4, '$45°$', fontsize = 11.5, color = 'black')\n",
    "plt.text(2.5, -3, '$◝$', fontsize = 30, color = '#404040')\n",
    "plt.text(72, 0, '$Y^e$', fontsize = 12, color = 'black')\n",
    "plt.text(80, 0, '$Y_t$', fontsize = 12, color = '#EE7600')\n",
    "plt.text(72, 45, '$→$', fontsize = 18, color = 'red')\n",
    "plt.text(20, 180, '$↑$', fontsize = 18, color = 'red')\n",
    "\n",
    "# Título y leyenda\n",
    "ax.set(title = \"Reducción de la Tasa de Tributación\", xlabel = r'Y', ylabel = r'DA')\n",
    "ax.legend()\n",
    "\n",
    "plt.show()"
   ]
  },
  {
   "cell_type": "markdown",
   "id": "cba84e7f",
   "metadata": {},
   "source": [
    "Pregunta 6:"
   ]
  },
  {
   "cell_type": "markdown",
   "id": "437da8c5",
   "metadata": {},
   "source": [
    "   a) 6.1"
   ]
  },
  {
   "cell_type": "code",
   "execution_count": 20,
   "id": "7d51d805",
   "metadata": {},
   "outputs": [],
   "source": [
    "Y_size = 100 \n",
    "\n",
    "Co = 36\n",
    "Io = 41\n",
    "Go = 71\n",
    "Xo = 3\n",
    "h = 0.6\n",
    "b = 0.7 \n",
    "m = 0.1\n",
    "t = 0.2\n",
    "r = 0.8\n",
    "g = 0.6\n",
    "\n",
    "Y = np.arange(Y_size)"
   ]
  },
  {
   "cell_type": "code",
   "execution_count": 21,
   "id": "ba150956",
   "metadata": {},
   "outputs": [],
   "source": [
    "def DA_K(Co, Io, Go, Xo, h, r, b, m, t, g, Y):\n",
    "    DA_K = (Co + Io + Go + Xo - h*r) + ((b - m)*(1 - t) - g)*Y\n",
    "    return DA_K # Ecuación de la curva del ingreso de equilibrio\n",
    "\n",
    "DA_IS_K = DA_K(Co, Io, Go, Xo, h, r, b, m, t, g, Y)\n",
    "\n"
   ]
  },
  {
   "cell_type": "code",
   "execution_count": 22,
   "id": "433ae6f5",
   "metadata": {},
   "outputs": [],
   "source": [
    "a = 2.5\n",
    "\n",
    "def L_45(a, Y):\n",
    "    L_45 = a*Y\n",
    "    return L_45\n",
    "\n",
    "L_45 = L_45(a, Y) # Recta de 45°\n"
   ]
  },
  {
   "cell_type": "code",
   "execution_count": 23,
   "id": "047be133",
   "metadata": {},
   "outputs": [
    {
     "data": {
      "image/png": "[encoded data removed]",
      "text/plain": [
       "<Figure size 1080x936 with 1 Axes>"
      ]
     },
     "metadata": {},
     "output_type": "display_data"
    }
   ],
   "source": [
    "y_max = np.max(DA_IS_K)\n",
    "fig, ax = plt.subplots(figsize=(15, 13))\n",
    "\n",
    "ax.plot(Y, DA_IS_K, label = \"DA\", color = \"#3D59AB\") #Demanda agregada\n",
    "ax.plot(Y, L_45, color = \"#404040\") #Línea de 45º\n",
    "\n",
    "ax.yaxis.set_major_locator(plt.NullLocator())   \n",
    "ax.xaxis.set_major_locator(plt.NullLocator())\n",
    "\n",
    "# Líneas punteadas punto de equilibrio\n",
    "plt.axvline(x=71,  ymin= 0, ymax= 0.70, linestyle = \":\", color = \"green\")\n",
    "plt.axhline(y=178, xmin= 0, xmax= 0.8, linestyle = \":\", color = \"green\")\n",
    "plt.axhline(y=142, xmin= 0, xmax= 0.8, linestyle = \":\", color = \"green\")\n",
    "\n",
    "\n",
    "# Texto agregado\n",
    "    # punto de equilibrio\n",
    "plt.text(0, 180, '$DA^e$', fontsize = 11.5, color = 'black')\n",
    "plt.text(72, 0, '$Y^e$', fontsize = 12, color = 'black')\n",
    "plt.text(0, 152, '$α_o$', fontsize = 15, color = 'black')\n",
    "plt.text(80, 170, '$α_1 = (b-m)(1-t)Y$', fontsize = 15, color = 'black')\n",
    "plt.text(78, 150, '$α_0 = (C_0 + I_0 + G_0 + X_0 - hr)$', fontsize = 15, color = 'black')\n",
    "plt.text(90, 120, '$DA = α_0 + α_1Y$', fontsize = 15, color = 'black')\n",
    "plt.text(92, 125, '$↑$', fontsize = 18, color = 'grey')\n",
    "\n",
    "    # línea 45º\n",
    "plt.text(6, 4, '$45°$', fontsize = 11.5, color = 'black')\n",
    "plt.text(2.5, -3, '$◝$', fontsize = 30, color = '#404040')\n",
    "\n",
    "ax.set(title=\"El ingreso de Equilibrio a CP\", xlabel= r'Y', ylabel= r'DA')\n",
    "plt.show()\n",
    "\n"
   ]
  },
  {
   "cell_type": "markdown",
   "id": "61520921",
   "metadata": {},
   "source": [
    "    b) 6.2"
   ]
  },
  {
   "cell_type": "markdown",
   "id": "240a3881",
   "metadata": {},
   "source": [
    "$ Entonces: $"
   ]
  },
  {
   "cell_type": "markdown",
   "id": "3fccbc72",
   "metadata": {},
   "source": [
    "A partir de la condición Y = DA, y resolviendo en función de Y, se obtiene la ecuación   del   ingreso   de   equilibrio así: "
   ]
  },
  {
   "cell_type": "markdown",
   "id": "aed38e93",
   "metadata": {},
   "source": [
    "$$ DA = C_0 + I_0 + G_0 + X_0 - hr + Y((b - m)(1 - t)- g) $$"
   ]
  },
  {
   "cell_type": "markdown",
   "id": "86842277",
   "metadata": {},
   "source": [
    "Ahora, considerando la condición de equilibrio $Y = DA$, la ecuación del ingreso de equilibrio a corto plazo es:"
   ]
  },
  {
   "cell_type": "markdown",
   "id": "6b4dfd28",
   "metadata": {},
   "source": [
    "$$ Y = \\frac{1}{1 - (b - m)(1 - t) + g} (C_0 + I_0 + G_0 + X_0 - hr) $$\n"
   ]
  },
  {
   "cell_type": "markdown",
   "id": "abab8ba2",
   "metadata": {},
   "source": [
    "    c) 6.3"
   ]
  },
  {
   "cell_type": "markdown",
   "id": "bc2f140c",
   "metadata": {},
   "source": [
    "    - Análisis gráfico: "
   ]
  },
  {
   "cell_type": "code",
   "execution_count": 24,
   "id": "50d55e55",
   "metadata": {},
   "outputs": [],
   "source": [
    "# Curva de ingreso de equilibrio ORIGINAL\n",
    "\n",
    "    # Parámetros\n",
    "Y_size = 100 \n",
    "\n",
    "Co = 36\n",
    "Io = 41\n",
    "Go = 71\n",
    "Xo = 3\n",
    "h = 0.6\n",
    "b = 0.7 \n",
    "m = 0.1\n",
    "t = 0.2\n",
    "r = 0.8\n",
    "g = 0.6\n",
    "\n",
    "Y = np.arange(Y_size)\n",
    "\n",
    "def DA_K(Co, Io, Go, Xo, h, r, b, m, t, g, Y):\n",
    "    DA_K = (Co + Io + Go + Xo - h*r) + ((b - m)*(1 - t) - g)*Y\n",
    "    return DA_K \n",
    "\n",
    "\n",
    "DA_IS_K = DA_K(Co, Io, Go, Xo, h, r, b, m, t, g, Y)\n",
    "\n",
    "\n",
    "\n",
    "#--------------------------------------------------\n",
    "# NUEVA curva de ingreso de equilibrio\n",
    "\n",
    "    # Definir SOLO el parámetro cambiado\n",
    "Go = 90\n",
    "\n",
    "# Generar la ecuación con el nuevo parámetro\n",
    "def DA_K(Co, Io, Go, Xo, h, r, b, m, t, g, Y):\n",
    "    DA_K = (Co + Io + Go + Xo - h*r) + ((b - m)*(1 - t) - g)*Y\n",
    "    return DA_K\n",
    "\n",
    "DA_G = DA_K(Co, Io, Go, Xo, h, r, b, m, t, g, Y)"
   ]
  },
  {
   "cell_type": "code",
   "execution_count": 25,
   "id": "3b20aa83",
   "metadata": {},
   "outputs": [
    {
     "data": {
      "image/png": "[encoded data removed]",
      "text/plain": [
       "<Figure size 720x576 with 1 Axes>"
      ]
     },
     "metadata": {
      "needs_background": "light"
     },
     "output_type": "display_data"
    }
   ],
   "source": [
    "y_max = np.max(DA_IS_K)\n",
    "fig, ax = plt.subplots(figsize=(10, 8))\n",
    "\n",
    "\n",
    "# Curvas a graficar\n",
    "ax.plot(Y, DA_IS_K, label = \"DA\", color = \"#3D59AB\") #curva ORIGINAL\n",
    "ax.plot(Y, DA_G, label = \"DA_G\", color = \"#EE7600\", linestyle = 'dashed') #NUEVA curva\n",
    "ax.plot(Y, L_45, color = \"#404040\") #línea de 45º\n",
    "\n",
    "# Lineas punteadas\n",
    "plt.axvline(x = 65, ymin= 0, ymax = 0.64, linestyle = \":\", color = \"grey\")\n",
    "plt.axhline(y = 160, xmin= 0, xmax = 0.63, linestyle = \":\", color = \"grey\")\n",
    "plt.axvline(x = 58,  ymin= 0, ymax = 0.58, linestyle = \":\", color = \"grey\")\n",
    "plt.axhline(y = 143, xmin= 0, xmax = 0.57, linestyle = \":\", color = \"grey\")\n",
    "\n",
    "# Texto agregado\n",
    "plt.text(0, 140, '$DA^e$', fontsize = 11.5, color = 'black')\n",
    "plt.text(0, 162, '$DA_G$', fontsize = 11.5, color = '#EE7600')\n",
    "plt.text(6, 4, '$45°$', fontsize = 11.5, color = 'black')\n",
    "plt.text(2.5, -3, '$◝$', fontsize = 30, color = '#404040')\n",
    "plt.text(56, 0, '$Y^e$', fontsize = 12, color = 'black')\n",
    "plt.text(65, 0, '$Y_G$', fontsize = 12, color = '#EE7600')\n",
    "plt.text(60, 45, '$→$', fontsize = 18, color = 'grey')\n",
    "plt.text(20, 150, '$↑$', fontsize = 18, color = 'grey')\n",
    "\n",
    "# Título y leyenda\n",
    "ax.set(title = \" Aumento del Gasto del Gobierno $(G_0)$\", xlabel = r'Y', ylabel = r'DA')\n",
    "ax.legend()\n",
    "\n",
    "plt.show()"
   ]
  },
  {
   "cell_type": "markdown",
   "id": "96c253c4",
   "metadata": {},
   "source": [
    "    - Análisis intuitivo:"
   ]
  },
  {
   "cell_type": "markdown",
   "id": "153a1858",
   "metadata": {},
   "source": [
    "$$ ↑Go → ↑DA → DA > Y → ↑Y $$"
   ]
  },
  {
   "cell_type": "markdown",
   "id": "fcce7380",
   "metadata": {},
   "source": [
    "Interpretación: El gobierno decide aumentar su gasto autónomo cuando la economía entra en recesión y/o en depresión. En este contexto, disminuye la producción y aumenta el desempleo de la fuerza laboral.  Ante ellos, el gobierno incrementa su gasto para estimular la recuperación de la producción. En este sentido,  si la economía entra en la fase de expansión y auge, el producto y el empleo aumentan"
   ]
  },
  {
   "cell_type": "markdown",
   "id": "f198fdab",
   "metadata": {},
   "source": [
    "    - Análisis matemático:  "
   ]
  },
  {
   "cell_type": "markdown",
   "id": "107f60ec",
   "metadata": {},
   "source": [
    "- Matemáticamente: $∆G_0 > 0  →  ¿∆Y?$\n",
    "\n",
    "$$ Y = \\frac{1}{1 - (b - m)(1 - t) + g} (C_0 + I_0 + G_0 + X_0 - hr) $$\n",
    "\n",
    "o, considerando el multiplicador keynesiano, $ k > 0 $:\n",
    "\n",
    "$$ ∆Y = k (∆C_0 + ∆I_0 + ∆G_0 + ∆X_0 - ∆hr) $$"
   ]
  },
  {
   "cell_type": "markdown",
   "id": "2da2f090",
   "metadata": {},
   "source": [
    "Pero, si no ha habido cambios en $C_0$, $I_0$, $X_0$, $h$ ni $r$, entonces: \n",
    "\n",
    "$$∆C_0 = ∆I_0 = ∆X_0 = ∆h = ∆r = 0$$\n",
    "\n",
    "$$ ∆Y = k (∆G_0) $$\n"
   ]
  },
  {
   "cell_type": "markdown",
   "id": "7d321fdd",
   "metadata": {},
   "source": [
    "Sabiendo que $∆G_0 > 0 $ y que $k > 0$, la multiplicación de un número positivo con un positivo dará otro positivo:\n",
    "\n",
    "$$ ∆Y = (+)(+) $$\n",
    "$$ ∆Y > 0 $$"
   ]
  },
  {
   "cell_type": "markdown",
   "id": "e71a0250",
   "metadata": {},
   "source": [
    "    - Parte 4: "
   ]
  },
  {
   "cell_type": "markdown",
   "id": "b290e695",
   "metadata": {},
   "source": [
    "Como se puede observar en la parte 3, el parámetro \"g\" de la regla contracíclica aparece en dos ecuaciones: "
   ]
  },
  {
   "cell_type": "markdown",
   "id": "a6ed0985",
   "metadata": {},
   "source": [
    "$$ Y = \\frac{1}{1 - (b - m)(1 - t) + g} (C_0 + I_0 + G_0 + X_0 - hr)$$ "
   ]
  },
  {
   "cell_type": "markdown",
   "id": "86536ab3",
   "metadata": {},
   "source": [
    "- Entonces, en la ecuación el parámetro \"g\" aparece aumentando la magnitud del denominador del multiplicador y, por tanto, reduce su tamaño (del multiplicador keynesiano). Por otro lado, en la segunda ecuación, el parámetro disminuye la magnitud de la pendiente de la función de DA. "
   ]
  },
  {
   "cell_type": "markdown",
   "id": "b5bfbe32",
   "metadata": {},
   "source": [
    "    - Parte 6.5"
   ]
  },
  {
   "cell_type": "markdown",
   "id": "159a9899",
   "metadata": {},
   "source": [
    "$$ DA = C_0 + I_0 + G_0 + X_0 - hr + Y((b - m)(1 - t)- g) $$"
   ]
  },
  {
   "cell_type": "markdown",
   "id": "3183ed97",
   "metadata": {},
   "source": [
    "Respuesta: No, como se evidencia en la ecuación, el parámetro \"g\" disminuye la magnitud de la pendiente de la función de DA. Este tipo de política fiscal hace que los auges y las depresiones no sean muy pronunciados. Se establece como una regla consistente en una variación del Gasto (G) en sentido contrario a la variación del Producto. Entonces, la política fiscal de gasto contra cíclico afecta la pendiente de la curva de DA y el valor del multiplicador. Ambos disminuyen y, por ende, morigera las fluctuaciones del producto o ingreso. "
   ]
  },
  {
   "cell_type": "markdown",
   "id": "38134509",
   "metadata": {},
   "source": [
    "    - Parte 6.6:"
   ]
  },
  {
   "cell_type": "markdown",
   "id": "0509149d",
   "metadata": {},
   "source": [
    "Análisis gráfico"
   ]
  },
  {
   "cell_type": "code",
   "execution_count": 26,
   "id": "eb933a9a",
   "metadata": {},
   "outputs": [],
   "source": [
    "# Curva de ingreso de equilibrio ORIGINAL\n",
    "\n",
    "    # Parámetros\n",
    "Y_size = 100 \n",
    "\n",
    "Co = 36\n",
    "Io = 41\n",
    "Go = 71\n",
    "Xo = 6\n",
    "h = 0.6\n",
    "b = 0.7 \n",
    "m = 0.1\n",
    "t = 0.2\n",
    "r = 0.8\n",
    "g = 0.6\n",
    "\n",
    "Y = np.arange(Y_size)\n",
    "\n",
    "def DA_K(Co, Io, Go, Xo, h, r, b, m, t, g, Y):\n",
    "    DA_K = (Co + Io + Go + Xo - h*r) + ((b - m)*(1 - t) - g)*Y\n",
    "    return DA_K \n",
    "\n",
    "\n",
    "DA_IS_K = DA_K(Co, Io, Go, Xo, h, r, b, m, t, g, Y)\n",
    "\n",
    "\n",
    "\n",
    "#--------------------------------------------------\n",
    "# NUEVA curva \n",
    "\n",
    "    # Definir SOLO el parámetro cambiado\n",
    "Xo = 1\n",
    "\n",
    "# Generar la ecuación con el nuevo parámetro\n",
    "def DA_K(Co, Io, Go, Xo, h, r, b, m, t, g, Y):\n",
    "    DA_K = (Co + Io + Go + Xo - h*r) + ((b - m)*(1 - t) - g)*Y\n",
    "    return DA_K\n",
    "\n",
    "DA_G = DA_K(Co, Io, Go, Xo, h, r, b, m, t, g, Y)"
   ]
  },
  {
   "cell_type": "code",
   "execution_count": 27,
   "id": "09dcc90e",
   "metadata": {},
   "outputs": [
    {
     "data": {
      "image/png": "[encoded data removed]",
      "text/plain": [
       "<Figure size 720x576 with 1 Axes>"
      ]
     },
     "metadata": {
      "needs_background": "light"
     },
     "output_type": "display_data"
    }
   ],
   "source": [
    "y_max = np.max(DA_IS_K)\n",
    "fig, ax = plt.subplots(figsize=(10, 8))\n",
    "\n",
    "\n",
    "# Curvas a graficar\n",
    "ax.plot(Y, DA_IS_K, label = \"DA\", color = \"#3D59AB\") #curva ORIGINAL\n",
    "ax.plot(Y, DA_G, label = \"DA_G\", color = \"#EE7600\", linestyle = 'dashed') #NUEVA curva\n",
    "ax.plot(Y, L_45, color = \"#404040\") #línea de 45º\n",
    "\n",
    "# Lineas punteadas\n",
    "plt.axvline(x = 58, ymin= 0, ymax = 0.58, linestyle = \":\", color = \"grey\")\n",
    "plt.axhline(y = 148, xmin= 0, xmax = 0.60, linestyle = \":\", color = \"grey\")\n",
    "plt.axvline(x = 56,  ymin= 0, ymax = 0.56, linestyle = \":\", color = \"grey\")\n",
    "plt.axhline(y = 140, xmin= 0, xmax = 0.57, linestyle = \":\", color = \"grey\")\n",
    "\n",
    "# Texto agregado\n",
    "plt.text(0, 162, '$DA^e$', fontsize = 11.5, color = 'black')\n",
    "plt.text(0, 140, '$DA_G$', fontsize = 11.5, color = '#EE7600')\n",
    "plt.text(6, 4, '$45°$', fontsize = 11.5, color = 'black')\n",
    "plt.text(2.5, -3, '$◝$', fontsize = 30, color = '#404040')\n",
    "plt.text(60, 0, '$Y^e$', fontsize = 12, color = 'black')\n",
    "plt.text(54, 0, '$Y_G$', fontsize = 12, color = '#EE7600')\n",
    "plt.text(55, 45, '$←$', fontsize = 18, color = 'grey')\n",
    "plt.text(20, 140, '$↓$', fontsize = 18, color = 'grey')\n",
    "\n",
    "# Título y leyenda\n",
    "ax.set(title = \" Reducción de exportaciones $(X_0)$\", xlabel = r'Y', ylabel = r'DA')\n",
    "ax.legend()\n",
    "\n",
    "plt.show()"
   ]
  },
  {
   "cell_type": "markdown",
   "id": "93327c2d",
   "metadata": {},
   "source": [
    "Análisis intuitivo"
   ]
  },
  {
   "cell_type": "markdown",
   "id": "a68be79d",
   "metadata": {},
   "source": [
    "$$ ↓Xo → ↓DA → DA < Y → ↓Y $$"
   ]
  },
  {
   "cell_type": "markdown",
   "id": "91b4d766",
   "metadata": {},
   "source": [
    "Interpretación: Las exportaciones decaen, por lo cual la demanda baja ante la escacez de productos. En este sentido, el nivel de producción inicial (antes de que las exportaciones cayeran) será mayor a la demanda agregada actual. En este escenario, se deberá reducir el nivel de producción para volver al equilibrio. "
   ]
  },
  {
   "cell_type": "markdown",
   "id": "22961fc2",
   "metadata": {},
   "source": [
    "Análisis matemático"
   ]
  },
  {
   "cell_type": "markdown",
   "id": "862724dc",
   "metadata": {},
   "source": [
    "- Matemáticamente: $∆G_0 < 0  →  ¿∆Y?$\n",
    "\n",
    "$$ Y = \\frac{1}{1 - (b - m)(1 - t) + g} (C_0 + I_0 + G_0 + X_0 - hr) $$\n",
    "\n",
    "o, considerando el multiplicador keynesiano, $ k > 0 $:\n",
    "\n",
    "$$ ∆Y = k (∆C_0 + ∆I_0 + ∆G_0 + ∆X_0 - ∆hr) $$"
   ]
  },
  {
   "cell_type": "markdown",
   "id": "301fd7e4",
   "metadata": {},
   "source": [
    "Pero, si no ha habido cambios en $C_0$, $I_0$, $G_0$, $h$ ni $r$, entonces: \n",
    "\n",
    "$$∆C_0 = ∆I_0 = ∆G_0 = ∆h0 = ∆r = 0$$\n",
    "\n",
    "$$ ∆Y = k (∆X_0) $$"
   ]
  },
  {
   "cell_type": "markdown",
   "id": "d8c9849c",
   "metadata": {},
   "source": [
    "Sabiendo que $∆X_0 < 0 $ y que $k > 0$, la multiplicación de un número negativo con un positivo dará otro negativo:\n",
    "\n",
    "$$ ∆Y = (-)(+) $$\n",
    "$$ ∆Y < 0 $$"
   ]
  }
 ],
 "metadata": {
  "kernelspec": {
   "display_name": "Python 3 (ipykernel)",
   "language": "python",
   "name": "python3"
  },
  "language_info": {
   "codemirror_mode": {
    "name": "ipython",
    "version": 3
   },
   "file_extension": ".py",
   "mimetype": "text/x-python",
   "name": "python",
   "nbconvert_exporter": "python",
   "pygments_lexer": "ipython3",
   "version": "3.9.13"
  }
 },
 "nbformat": 4,
 "nbformat_minor": 5
}
